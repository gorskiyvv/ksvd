{
  "nbformat": 4,
  "nbformat_minor": 0,
  "metadata": {
    "colab": {
      "provenance": []
    },
    "kernelspec": {
      "name": "python3",
      "display_name": "Python 3"
    },
    "language_info": {
      "name": "python"
    }
  },
  "cells": [
    {
      "cell_type": "code",
      "execution_count": null,
      "metadata": {
        "id": "JLQ_xB4HpcH5"
      },
      "outputs": [],
      "source": [
        "import torch\n",
        "import torch.nn as nn\n",
        "import torchvision\n",
        "import torchvision.transforms as transforms\n",
        "import matplotlib.pyplot as plt"
      ]
    },
    {
      "cell_type": "markdown",
      "source": [
        "Завантаження та підготовка даних"
      ],
      "metadata": {
        "id": "p3zsPV9yppnG"
      }
    },
    {
      "cell_type": "code",
      "source": [
        "transform = transforms.ToTensor()\n",
        "\n",
        "train_dataset = torchvision.datasets.MNIST(root='./data', train=True, transform=transform, download=True)\n",
        "train_loader = torch.utils.data.DataLoader(train_dataset, batch_size=64, shuffle=True)\n"
      ],
      "metadata": {
        "id": "J4Dn684_pqOI"
      },
      "execution_count": null,
      "outputs": []
    },
    {
      "cell_type": "code",
      "source": [
        "class VAE(nn.Module):\n",
        "    def __init__(self):\n",
        "        super(VAE, self).__init__()\n",
        "\n",
        "        self.encoder = nn.Sequential(\n",
        "            nn.Linear(28*28, 256),\n",
        "            nn.ReLU(),\n",
        "            nn.Linear(256, 64),\n",
        "            nn.ReLU(),\n",
        "            nn.Linear(64, 20)\n",
        "        )\n",
        "\n",
        "        self.decoder = nn.Sequential(\n",
        "            nn.Linear(10, 64),\n",
        "            nn.ReLU(),\n",
        "            nn.Linear(64, 256),\n",
        "            nn.ReLU(),\n",
        "            nn.Linear(256, 28*28),\n",
        "            nn.Sigmoid()\n",
        "        )\n",
        "\n",
        "    def reparameterize(self, mu, logvar):\n",
        "        std = torch.exp(0.5*logvar)\n",
        "        eps = torch.randn_like(std)\n",
        "        return mu + eps*std\n",
        "\n",
        "    def forward(self, x):\n",
        "        x = x.view(-1, 28*28)\n",
        "        h = self.encoder(x)\n",
        "        mu, logvar = torch.chunk(h, 2, dim=1)\n",
        "        z = self.reparameterize(mu, logvar)\n",
        "        x_reconstructed = self.decoder(z)\n",
        "        return x_reconstructed, mu, logvar"
      ],
      "metadata": {
        "id": "I8wkKCYCpyCg"
      },
      "execution_count": null,
      "outputs": []
    },
    {
      "cell_type": "markdown",
      "source": [
        "Функція втрат"
      ],
      "metadata": {
        "id": "mYCJVrFEqLog"
      }
    },
    {
      "cell_type": "code",
      "source": [
        "def loss_function(recon_x, x, mu, logvar):\n",
        "    BCE = nn.functional.binary_cross_entropy(recon_x, x.view(-1, 28*28), reduction='sum')\n",
        "    KLD = -0.5 * torch.sum(1 + logvar - mu.pow(2) - logvar.exp())\n",
        "    return BCE + KLD"
      ],
      "metadata": {
        "id": "7pK6BTL4qNqz"
      },
      "execution_count": null,
      "outputs": []
    },
    {
      "cell_type": "markdown",
      "source": [
        "Ініціалізація моделі та оптимізатора"
      ],
      "metadata": {
        "id": "6iQlxMlvqQ3b"
      }
    },
    {
      "cell_type": "code",
      "source": [
        "model = VAE()\n",
        "optimizer = torch.optim.Adam(model.parameters(), lr=1e-3)"
      ],
      "metadata": {
        "id": "XS66uDwuqUYy"
      },
      "execution_count": null,
      "outputs": []
    },
    {
      "cell_type": "markdown",
      "source": [
        "Навчання"
      ],
      "metadata": {
        "id": "dfhpu9FUqWdS"
      }
    },
    {
      "cell_type": "code",
      "source": [
        "num_epochs = 10\n",
        "for epoch in range(num_epochs):\n",
        "    for data in train_loader:\n",
        "        img, _ = data\n",
        "        recon_batch, mu, logvar = model(img)\n",
        "        loss = loss_function(recon_batch, img, mu, logvar)\n",
        "\n",
        "        optimizer.zero_grad()\n",
        "        loss.backward()\n",
        "        optimizer.step()\n",
        "\n",
        "    print('Epoch [{}/{}], Loss: {:.4f}'.format(epoch+1, num_epochs, loss.item()))\n"
      ],
      "metadata": {
        "colab": {
          "base_uri": "https://localhost:8080/"
        },
        "id": "ieYQQ5xyqXLO",
        "outputId": "ce337b1b-5a9e-448b-ff8f-88fa407bf2de"
      },
      "execution_count": null,
      "outputs": [
        {
          "output_type": "stream",
          "name": "stdout",
          "text": [
            "Epoch [1/10], Loss: 4574.5908\n",
            "Epoch [2/10], Loss: 3818.4617\n",
            "Epoch [3/10], Loss: 3880.4009\n",
            "Epoch [4/10], Loss: 3707.3647\n",
            "Epoch [5/10], Loss: 3534.8860\n",
            "Epoch [6/10], Loss: 3643.2891\n",
            "Epoch [7/10], Loss: 3515.7039\n",
            "Epoch [8/10], Loss: 3665.7610\n",
            "Epoch [9/10], Loss: 3282.0554\n",
            "Epoch [10/10], Loss: 3801.2720\n"
          ]
        }
      ]
    },
    {
      "cell_type": "markdown",
      "source": [
        "Візуалізація"
      ],
      "metadata": {
        "id": "OrrFNfbprVk4"
      }
    },
    {
      "cell_type": "code",
      "source": [
        "with torch.no_grad():\n",
        "    n_samples = 10\n",
        "    sample_images, _ = next(iter(train_loader))\n",
        "    recon_batch, _, _ = model(sample_images)\n",
        "    sample_images = sample_images.numpy()\n",
        "    recon_batch = recon_batch.view(-1, 1, 28, 28).numpy()\n",
        "\n",
        "    plt.figure(figsize=(20, 4))\n",
        "    for i in range(n_samples):\n",
        "        # Оригінальне зображення\n",
        "        ax = plt.subplot(2, n_samples, i + 1)\n",
        "        plt.imshow(sample_images[i].squeeze(), cmap='gray')\n",
        "        ax.get_xaxis().set_visible(False)\n",
        "        ax.get_yaxis().set_visible(False)\n",
        "\n",
        "        # Реконструйоване зображення\n",
        "        ax = plt.subplot(2, n_samples, i + 1 + n_samples)\n",
        "        plt.imshow(recon_batch[i].squeeze(), cmap='gray')\n",
        "        ax.get_xaxis().set_visible(False)\n",
        "        ax.get_yaxis().set_visible(False)\n",
        "    plt.show()"
      ],
      "metadata": {
        "colab": {
          "base_uri": "https://localhost:8080/",
          "height": 285
        },
        "id": "KnmCpJ8irWl-",
        "outputId": "ac879682-6f23-4f71-f617-05df58963e24"
      },
      "execution_count": null,
      "outputs": [
        {
          "output_type": "display_data",
          "data": {
            "text/plain": [
              "<Figure size 2000x400 with 20 Axes>"
            ],
            "image/png": "[encoded data removed]"
          },
          "metadata": {}
        }
      ]
    },
    {
      "cell_type": "markdown",
      "source": [
        "У варіаційних автокодувальниках (VAE) відбувається генерація нових даних з деякого розподілу вхідних даних. Порівняно з звичайним автокодувальником, де зазвичай ми маємо закодований вектор фіксованої розмірності, у варіаційному автокодувальнику ми працюємо з розподілом, що дозволяє здійснювати більш гнучкий та плавний зсув в просторі.\n",
        "\n",
        "У варіаційних автокодувальниках присутня компонента, яка відповідає за змінність (variability), яка дозволяє генерувати різні варіанти зображень з одного і того ж розподілу. Ця здатність до генерації нових зображень дозволяє зробити варіаційні автокодувальники корисними для завдань, таких як генерація нових зображень та аугментація даних.\n",
        "\n",
        "У висновку можна зазначити, що варіаційні автокодувальники мають певні переваги порівняно зі звичайними автокодувальниками, зокрема здатність до генерації нових зображень та більш гнучкий зсув у просторі. Однак вони також можуть бути складнішими у навчанні та вимагати більшого обсягу даних для ефективного навчання."
      ],
      "metadata": {
        "id": "h5rybx03s6m4"
      }
    }
  ]
}